{
  "cells": [
    {
      "cell_type": "markdown",
      "metadata": {
        "id": "view-in-github",
        "colab_type": "text"
      },
      "source": [
        "<a href=\"https://colab.research.google.com/github/riskakurniaa/Machine-Learning/blob/Jobsheet3/Praktikum2.ipynb\" target=\"_parent\"><img src=\"https://colab.research.google.com/assets/colab-badge.svg\" alt=\"Open In Colab\"/></a>"
      ]
    },
    {
      "cell_type": "markdown",
      "source": [
        "Nama  : **Riska Kurnia Triwulandari**  \n",
        "Kelas : **3A**  \n",
        "NIM   : **2241720039**"
      ],
      "metadata": {
        "id": "0hmRRhp10Rva"
      }
    },
    {
      "cell_type": "markdown",
      "source": [
        "## Mengimpor Library\n",
        "Lakukan import library yang diperlukan terlebih dahulu, termasuk NumPy, Matplotlib, dan pandas."
      ],
      "metadata": {
        "id": "IvOFx7rg0av4"
      }
    },
    {
      "cell_type": "code",
      "source": [
        "# Mengimpor library\n",
        "import numpy as np\n",
        "import matplotlib.pyplot as plt\n",
        "import pandas as pd"
      ],
      "metadata": {
        "id": "RUEhFIJ50j55"
      },
      "execution_count": 1,
      "outputs": []
    },
    {
      "cell_type": "markdown",
      "source": [
        "## Mengimpor Dataset\n",
        "Membaca dataset menggunakan pd.read_csv dan memilih fitur (variabel independen X) dan target (variabel dependen y)."
      ],
      "metadata": {
        "id": "FZ9NrO9d0mlo"
      }
    },
    {
      "cell_type": "code",
      "source": [
        "# Mengimpor dataset (Pastikan Anda memiliki file CSV 'Posisi_gaji.csv' dalam direktori yang sama)\n",
        "dataset = pd.read_csv('Posisi_gaji.csv')\n",
        "X = dataset.iloc[:, 1:2].values\n",
        "y = dataset.iloc[:, 2].values  # Ubah menjadi satu kolom saja"
      ],
      "metadata": {
        "id": "O90TRPzB03vo"
      },
      "execution_count": 2,
      "outputs": []
    },
    {
      "cell_type": "markdown",
      "source": [
        "*   **dataset.iloc[:, 1:2].values:** Mengambil kolom kedua dari dataset (menggunakan iloc) dan menyimpannya dalam X sebagai array NumPy. Ini berisi fitur yang akan digunakan untuk model.\n",
        "*  **dataset.iloc[:, 2].values:** Mengambil kolom ketiga dari dataset (menggunakan iloc) dan menyimpannya dalam y sebagai array NumPy. Ini berisi target yang akan diprediksi."
      ],
      "metadata": {
        "id": "d09X6R2dmadL"
      }
    },
    {
      "cell_type": "markdown",
      "source": [
        "## Feature Scaling\n",
        "Menggunakan StandardScaler untuk melakukan penskalaan fitur X dan target y. Ini diperlukan karena SVM sangat sensitif terhadap skala data."
      ],
      "metadata": {
        "id": "aK-SVw7E08b1"
      }
    },
    {
      "cell_type": "code",
      "source": [
        "# Feature Scaling\n",
        "from sklearn.preprocessing import StandardScaler\n",
        "sc_X = StandardScaler()\n",
        "sc_y = StandardScaler()\n",
        "X = sc_X.fit_transform(X.reshape(-1, 1))\n",
        "y = sc_y.fit_transform(y.reshape(-1, 1))"
      ],
      "metadata": {
        "id": "_aamuIQ41F9L"
      },
      "execution_count": 3,
      "outputs": []
    },
    {
      "cell_type": "markdown",
      "source": [
        "*   **StandardScaler():** Membuat objek StandardScaler untuk melakukan standardisasi data.\n",
        "*   **sc_X.fit_transform(X.reshape(-1, 1)):** Menstandardisasi fitur X dengan cara meratakan bentuknya ke dua dimensi dan mengubah skala menjadi distribusi dengan rata-rata 0 dan deviasi standar 1.\n",
        "*   **sc_y.fit_transform(y.reshape(-1, 1)):** Menstandardisasi target y dengan cara meratakan bentuknya ke dua dimensi dan mengubah skala menjadi distribusi dengan rata-rata 0 dan deviasi standar 1.\n",
        "\n",
        "\n",
        "Standardisasi ini mengubah fitur dan target ke skala yang sama, yaitu dengan rata-rata 0 dan deviasi standar 1, yang penting untuk banyak algoritma pembelajaran mesin agar model berfungsi dengan baik."
      ],
      "metadata": {
        "id": "EmeoROjLmkBs"
      }
    },
    {
      "cell_type": "markdown",
      "source": [
        "## Fitting SVR ke Dataset\n",
        "Lakukan pembuatan model SVR dengan kernel RBF (Radial Basis Function) dan melatihnya dengan data yang telah di-scaled."
      ],
      "metadata": {
        "id": "I80V9-Sc1LSs"
      }
    },
    {
      "cell_type": "code",
      "source": [
        "# Fitting SVR ke dataset\n",
        "from sklearn.svm import SVR\n",
        "regressor = SVR(kernel='rbf')\n",
        "regressor.fit(X, y)"
      ],
      "metadata": {
        "colab": {
          "base_uri": "https://localhost:8080/",
          "height": 109
        },
        "id": "WoXytVI11P1e",
        "outputId": "af0d29ff-9d60-47e2-85ed-505bf1b254d2"
      },
      "execution_count": 4,
      "outputs": [
        {
          "output_type": "stream",
          "name": "stderr",
          "text": [
            "/usr/local/lib/python3.10/dist-packages/sklearn/utils/validation.py:1183: DataConversionWarning: A column-vector y was passed when a 1d array was expected. Please change the shape of y to (n_samples, ), for example using ravel().\n",
            "  y = column_or_1d(y, warn=True)\n"
          ]
        },
        {
          "output_type": "execute_result",
          "data": {
            "text/plain": [
              "SVR()"
            ],
            "text/html": [
              "<style>#sk-container-id-1 {color: black;}#sk-container-id-1 pre{padding: 0;}#sk-container-id-1 div.sk-toggleable {background-color: white;}#sk-container-id-1 label.sk-toggleable__label {cursor: pointer;display: block;width: 100%;margin-bottom: 0;padding: 0.3em;box-sizing: border-box;text-align: center;}#sk-container-id-1 label.sk-toggleable__label-arrow:before {content: \"▸\";float: left;margin-right: 0.25em;color: #696969;}#sk-container-id-1 label.sk-toggleable__label-arrow:hover:before {color: black;}#sk-container-id-1 div.sk-estimator:hover label.sk-toggleable__label-arrow:before {color: black;}#sk-container-id-1 div.sk-toggleable__content {max-height: 0;max-width: 0;overflow: hidden;text-align: left;background-color: #f0f8ff;}#sk-container-id-1 div.sk-toggleable__content pre {margin: 0.2em;color: black;border-radius: 0.25em;background-color: #f0f8ff;}#sk-container-id-1 input.sk-toggleable__control:checked~div.sk-toggleable__content {max-height: 200px;max-width: 100%;overflow: auto;}#sk-container-id-1 input.sk-toggleable__control:checked~label.sk-toggleable__label-arrow:before {content: \"▾\";}#sk-container-id-1 div.sk-estimator input.sk-toggleable__control:checked~label.sk-toggleable__label {background-color: #d4ebff;}#sk-container-id-1 div.sk-label input.sk-toggleable__control:checked~label.sk-toggleable__label {background-color: #d4ebff;}#sk-container-id-1 input.sk-hidden--visually {border: 0;clip: rect(1px 1px 1px 1px);clip: rect(1px, 1px, 1px, 1px);height: 1px;margin: -1px;overflow: hidden;padding: 0;position: absolute;width: 1px;}#sk-container-id-1 div.sk-estimator {font-family: monospace;background-color: #f0f8ff;border: 1px dotted black;border-radius: 0.25em;box-sizing: border-box;margin-bottom: 0.5em;}#sk-container-id-1 div.sk-estimator:hover {background-color: #d4ebff;}#sk-container-id-1 div.sk-parallel-item::after {content: \"\";width: 100%;border-bottom: 1px solid gray;flex-grow: 1;}#sk-container-id-1 div.sk-label:hover label.sk-toggleable__label {background-color: #d4ebff;}#sk-container-id-1 div.sk-serial::before {content: \"\";position: absolute;border-left: 1px solid gray;box-sizing: border-box;top: 0;bottom: 0;left: 50%;z-index: 0;}#sk-container-id-1 div.sk-serial {display: flex;flex-direction: column;align-items: center;background-color: white;padding-right: 0.2em;padding-left: 0.2em;position: relative;}#sk-container-id-1 div.sk-item {position: relative;z-index: 1;}#sk-container-id-1 div.sk-parallel {display: flex;align-items: stretch;justify-content: center;background-color: white;position: relative;}#sk-container-id-1 div.sk-item::before, #sk-container-id-1 div.sk-parallel-item::before {content: \"\";position: absolute;border-left: 1px solid gray;box-sizing: border-box;top: 0;bottom: 0;left: 50%;z-index: -1;}#sk-container-id-1 div.sk-parallel-item {display: flex;flex-direction: column;z-index: 1;position: relative;background-color: white;}#sk-container-id-1 div.sk-parallel-item:first-child::after {align-self: flex-end;width: 50%;}#sk-container-id-1 div.sk-parallel-item:last-child::after {align-self: flex-start;width: 50%;}#sk-container-id-1 div.sk-parallel-item:only-child::after {width: 0;}#sk-container-id-1 div.sk-dashed-wrapped {border: 1px dashed gray;margin: 0 0.4em 0.5em 0.4em;box-sizing: border-box;padding-bottom: 0.4em;background-color: white;}#sk-container-id-1 div.sk-label label {font-family: monospace;font-weight: bold;display: inline-block;line-height: 1.2em;}#sk-container-id-1 div.sk-label-container {text-align: center;}#sk-container-id-1 div.sk-container {/* jupyter's `normalize.less` sets `[hidden] { display: none; }` but bootstrap.min.css set `[hidden] { display: none !important; }` so we also need the `!important` here to be able to override the default hidden behavior on the sphinx rendered scikit-learn.org. See: https://github.com/scikit-learn/scikit-learn/issues/21755 */display: inline-block !important;position: relative;}#sk-container-id-1 div.sk-text-repr-fallback {display: none;}</style><div id=\"sk-container-id-1\" class=\"sk-top-container\"><div class=\"sk-text-repr-fallback\"><pre>SVR()</pre><b>In a Jupyter environment, please rerun this cell to show the HTML representation or trust the notebook. <br />On GitHub, the HTML representation is unable to render, please try loading this page with nbviewer.org.</b></div><div class=\"sk-container\" hidden><div class=\"sk-item\"><div class=\"sk-estimator sk-toggleable\"><input class=\"sk-toggleable__control sk-hidden--visually\" id=\"sk-estimator-id-1\" type=\"checkbox\" checked><label for=\"sk-estimator-id-1\" class=\"sk-toggleable__label sk-toggleable__label-arrow\">SVR</label><div class=\"sk-toggleable__content\"><pre>SVR()</pre></div></div></div></div></div>"
            ]
          },
          "metadata": {},
          "execution_count": 4
        }
      ]
    },
    {
      "cell_type": "markdown",
      "source": [
        "Model SVR dengan kernel RBF dilatih pada data yang telah distandardisasi untuk memprediksi target y berdasarkan fitur X. Kernel RBF membantu menangani hubungan non-linear antara fitur dan target."
      ],
      "metadata": {
        "id": "FLrsHX7anX6d"
      }
    },
    {
      "cell_type": "markdown",
      "source": [
        "## Visualisasi Hasil SVR"
      ],
      "metadata": {
        "id": "IvRpTDDgnj94"
      }
    },
    {
      "cell_type": "markdown",
      "source": [
        "Lakukan visualisasi Menggunakan grafik untuk memvisualisasikan hasil prediksi model SVR. Ini mencakup plotting data asli (titik-titik merah) dan kurva hasil prediksi (garis biru) untuk tingkat posisi yang bervariasi."
      ],
      "metadata": {
        "id": "PLkzLVlznvXB"
      }
    },
    {
      "cell_type": "code",
      "source": [
        "# Visualisasi hasil SVR (resolusi tinggi dan kurva yang lebih halus)\n",
        "X_grid = np.arange(min(X), max(X), 0.01).reshape(-1, 1)\n",
        "plt.scatter(X, y, color='red')\n",
        "plt.plot(X_grid, regressor.predict(X_grid), color='blue')\n",
        "plt.title('(SVR)')\n",
        "plt.xlabel('Tingkat posisi')\n",
        "plt.ylabel('Gaji')\n",
        "plt.show()"
      ],
      "metadata": {
        "colab": {
          "base_uri": "https://localhost:8080/",
          "height": 527
        },
        "id": "7Um1z_zxnwMJ",
        "outputId": "e31aeae0-abf2-4b4a-cbfa-27ea2c0b563d"
      },
      "execution_count": 5,
      "outputs": [
        {
          "output_type": "stream",
          "name": "stderr",
          "text": [
            "<ipython-input-5-e94124bddd16>:2: DeprecationWarning: Conversion of an array with ndim > 0 to a scalar is deprecated, and will error in future. Ensure you extract a single element from your array before performing this operation. (Deprecated NumPy 1.25.)\n",
            "  X_grid = np.arange(min(X), max(X), 0.01).reshape(-1, 1)\n"
          ]
        },
        {
          "output_type": "display_data",
          "data": {
            "text/plain": [
              "<Figure size 640x480 with 1 Axes>"
            ],
            "image/png": "[encoded data removed]"
          },
          "metadata": {}
        }
      ]
    },
    {
      "cell_type": "markdown",
      "source": [
        "\n",
        "## Prediksi Hasil\n",
        "\n",
        "*   Membuat array 2D yang berisi tingkat posisi yang akan diprediksi. Dalam contoh ini, tingkat posisi 6.5.\n",
        "*   Menskalakan fitur prediksi menggunakan sc_X.transform.\n",
        "*   Melakukan prediksi menggunakan model SVR yang telah dilatih.\n",
        "*   Mengembalikan hasil prediksi ke dalam skala aslinya menggunakan sc_y.inverse_transform.\n",
        "\n"
      ],
      "metadata": {
        "id": "aPf8Nn1mnyQ0"
      }
    },
    {
      "cell_type": "code",
      "source": [
        "# Prediksi hasil\n",
        "# Buat array 2D yang berisi tingkat posisi yang akan diprediksi\n",
        "tingkat_posisi_prediksi = np.array([[6.5]])\n",
        "# Penskalaan fitur untuk data yang akan diprediksi\n",
        "tingkat_posisi_prediksi = sc_X.transform(tingkat_posisi_prediksi)\n",
        "# Melakukan prediksi menggunakan model SVR\n",
        "gaji_prediksi = regressor.predict(tingkat_posisi_prediksi)\n",
        "# Kembalikan hasil prediksi ke skala aslinya\n",
        "gaji_prediksi = sc_y.inverse_transform(gaji_prediksi.reshape(-1, 1))"
      ],
      "metadata": {
        "id": "E_WIhpzUoLXr"
      },
      "execution_count": 6,
      "outputs": []
    },
    {
      "cell_type": "markdown",
      "source": [
        "Kode tersebut memprediksi gaji untuk tingkat posisi tertentu (6.5) dengan menggunakan model SVR. Tingkat posisi diskalakan sebelum prediksi, dan hasil prediksi kemudian dikembalikan ke skala asli untuk mendapatkan nilai gaji dalam satuan yang dapat dipahami."
      ],
      "metadata": {
        "id": "XK0gLEt5qi43"
      }
    },
    {
      "cell_type": "markdown",
      "source": [
        "## Menampilkan Hasil\n",
        "\n",
        "Menampilkan hasil prediksi gaji untuk tingkat posisi 6.5 dalam kode"
      ],
      "metadata": {
        "id": "JJAnulBHoN2o"
      }
    },
    {
      "cell_type": "code",
      "source": [
        "# Menampilkan hasil prediksi\n",
        "print(\"Prediksi Gaji untuk Tingkat Posisi 6.5:\", gaji_prediksi[0])"
      ],
      "metadata": {
        "colab": {
          "base_uri": "https://localhost:8080/"
        },
        "id": "p8N065NCoVr0",
        "outputId": "569119f8-ea86-4472-8ef5-4f0f73b1077f"
      },
      "execution_count": 7,
      "outputs": [
        {
          "output_type": "stream",
          "name": "stdout",
          "text": [
            "Prediksi Gaji untuk Tingkat Posisi 6.5: [170370.0204065]\n"
          ]
        }
      ]
    },
    {
      "cell_type": "markdown",
      "source": [
        "## Validasi Hasil"
      ],
      "metadata": {
        "id": "hQSCW3P5oXvR"
      }
    },
    {
      "cell_type": "markdown",
      "source": [
        "Hasil output Gambar 3.10 adalah grafik dari model Support Vector Regression (SVR) yang telah dilatih untuk memprediksi gaji berdasarkan tingkat posisi. Grafik tersebut merupakan visualisasi dari hubungan antara tingkat posisi (x-axis) dan gaji (y-axis) setelah menerapkan model SVR.\n",
        "\n",
        "## Grafik SVR\n",
        "*   Pada grafik tersebut, titik-titik merah mewakili data pengamatan asli yang digunakan untuk melatih model Support Vector Regression (SVR).\n",
        "*   Garis biru adalah hasil dari prediksi model SVR. Garis ini mencoba untuk mengikuti pola data asli sebaik mungkin dan merupakan representasi dari hubungan non-linear antara tingkat posisi dan gaji.\n",
        "\n",
        "Hasil prediksi yang ditampilkan adalah prediksi gaji untuk tingkat posisi 6.5. Hasilnya adalah sekitar\n",
        "$170,370.02.\n",
        "\n",
        "Ini berarti model SVR memperkirakan bahwa seseorang dengan tingkat posisi 6.5 akan memiliki gaji sekitar $170,370.02 berdasarkan pola hubungan yang ditemukan dalam data latihan.\n",
        "\n",
        "Grafik ini memvisualisasikan bagaimana model SVR mencoba untuk menyesuaikan diri dengan data yang ada dan memberikan prediksi yang sesuai berdasarkan tingkat posisi yang diberikan (6.5 dalam hal ini). Dalam prakteknya, Anda dapat menggunakan model ini untuk membuat prediksi gaji berdasarkan tingkat posisi lainnya dengan mengganti nilai tingkat_posisi_prediksi."
      ],
      "metadata": {
        "id": "eaSGX0I2ofFy"
      }
    },
    {
      "cell_type": "markdown",
      "source": [
        "## Evaluasi Model SVR\n",
        "\n",
        "Langkah terakhir adalah melakukan evaluasi model meliputi MAE, MSE dan R-squared"
      ],
      "metadata": {
        "id": "qdEXQHesozPC"
      }
    },
    {
      "cell_type": "code",
      "execution_count": 9,
      "metadata": {
        "id": "H13zzbYuSC4_",
        "colab": {
          "base_uri": "https://localhost:8080/"
        },
        "outputId": "ed750469-4b4f-4bef-d968-1256f2a0ab90"
      },
      "outputs": [
        {
          "output_type": "stream",
          "name": "stdout",
          "text": [
            "MAE: 0.22299274095734414\n",
            "MSE: 0.24839989293792014\n",
            "RMSE: 0.4983973243687411\n",
            "R-squared: 0.7516001070620798\n"
          ]
        }
      ],
      "source": [
        "# Evaluasi model\n",
        "from sklearn.metrics import mean_absolute_error, mean_squared_error, r2_score\n",
        "\n",
        "y_actual = y\n",
        "y_pred = regressor.predict(X)\n",
        "\n",
        "# Menghitung MAE\n",
        "mae = mean_absolute_error(y_actual, y_pred)\n",
        "\n",
        "# Menghitung MSE\n",
        "mse = mean_squared_error(y_actual, y_pred)\n",
        "\n",
        "# Menghitung RMSE\n",
        "rmse = np.sqrt(mse)\n",
        "\n",
        "# Menghitung R-squared\n",
        "r2 = r2_score(y_actual, y_pred)\n",
        "\n",
        "print(\"MAE:\", mae)\n",
        "print(\"MSE:\", mse)\n",
        "print(\"RMSE:\", rmse)\n",
        "print(\"R-squared:\", r2)"
      ]
    },
    {
      "cell_type": "markdown",
      "source": [
        "\n",
        "Kode tersebut mengevaluasi performa model regresi dengan empat metrik utama:\n",
        "\n",
        "\n",
        "*   MAE (Mean Absolute Error): Mengukur rata-rata kesalahan absolut antara prediksi dan nilai asli.\n",
        "*   MSE (Mean Squared Error): Menghitung rata-rata kuadrat kesalahan prediksi, memberikan penalti lebih besar untuk kesalahan besar.\n",
        "*   RMSE (Root Mean Squared Error): Akar kuadrat dari MSE, menunjukkan skala kesalahan dalam satuan asli.\n",
        "*   R² (R-squared): Menilai seberapa baik model menjelaskan variabilitas data target, dengan 1 sebagai nilai sempurna."
      ],
      "metadata": {
        "id": "PZpG0ly50MVQ"
      }
    }
  ],
  "metadata": {
    "colab": {
      "provenance": [],
      "include_colab_link": true
    },
    "kernelspec": {
      "display_name": "Python 3",
      "name": "python3"
    },
    "language_info": {
      "name": "python"
    }
  },
  "nbformat": 4,
  "nbformat_minor": 0
}