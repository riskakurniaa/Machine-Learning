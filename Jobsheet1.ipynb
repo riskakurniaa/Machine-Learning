{
  "nbformat": 4,
  "nbformat_minor": 0,
  "metadata": {
    "colab": {
      "provenance": [],
      "authorship_tag": "ABX9TyPvQMEn1/dPnS72pQtSvOEx",
      "include_colab_link": true
    },
    "kernelspec": {
      "name": "python3",
      "display_name": "Python 3"
    },
    "language_info": {
      "name": "python"
    }
  },
  "cells": [
    {
      "cell_type": "markdown",
      "metadata": {
        "id": "view-in-github",
        "colab_type": "text"
      },
      "source": [
        "<a href=\"https://colab.research.google.com/github/riskakurniaa/Machine-Learning/blob/Jobsheet1/Jobsheet1.ipynb\" target=\"_parent\"><img src=\"https://colab.research.google.com/assets/colab-badge.svg\" alt=\"Open In Colab\"/></a>"
      ]
    },
    {
      "cell_type": "code",
      "source": [
        "def norm_data(data):\n",
        "    \"\"\"\n",
        "    Melakukan normalisasi data.\n",
        "\n",
        "    Parameters:\n",
        "        data (list): Data yang akan dinormalisasi\n",
        "\n",
        "    Returns:\n",
        "        data (list): Data hasil normalisasi\n",
        "    \"\"\"\n",
        "    data_max = max(data)\n",
        "    data_min = min(data)\n",
        "    data_len = len(data)\n",
        "\n",
        "    for i in range(0, data_len):\n",
        "        data[i] = (data[i] - data_min) / (data_max - data_min)\n",
        "\n",
        "    return data\n",
        "\n",
        "# Contoh Penggunaan\n",
        "data = [10, 11, 12, 14, 16]\n",
        "n_data = norm_data(data)  # melakukan normalisasi\n",
        "print(n_data)"
      ],
      "metadata": {
        "colab": {
          "base_uri": "https://localhost:8080/"
        },
        "id": "J7qmIQeh4cY_",
        "outputId": "f29a5fc6-48e9-4ab4-8607-63e5d5ee6613"
      },
      "execution_count": null,
      "outputs": [
        {
          "output_type": "stream",
          "name": "stdout",
          "text": [
            "[0.0, 0.16666666666666666, 0.3333333333333333, 0.6666666666666666, 1.0]\n"
          ]
        }
      ]
    },
    {
      "cell_type": "code",
      "execution_count": null,
      "metadata": {
        "colab": {
          "base_uri": "https://localhost:8080/"
        },
        "id": "yJE9M_p8ynPH",
        "outputId": "80dd9e43-42fe-4ba3-cadd-4dbb400e1e98"
      },
      "outputs": [
        {
          "output_type": "stream",
          "name": "stdout",
          "text": [
            "Data Asli:\n",
            "[[100.       0.0001]\n",
            " [ 50.       0.05  ]\n",
            " [ 30.       0.003 ]]\n",
            "Data Normalisasi:\n",
            "[[1.       0.      ]\n",
            " [0.285714 1.      ]\n",
            " [0.       0.058116]]\n"
          ]
        }
      ],
      "source": [
        "import numpy as np\n",
        "from sklearn.preprocessing import MinMaxScaler\n",
        "\n",
        "# Set opsi tampilan numpy\n",
        "np.set_printoptions(precision=6)  # Bulatkan 4 angka koma\n",
        "np.set_printoptions(suppress=True)  # Hilangkan nilai (e)\n",
        "\n",
        "# Kita akan membentuk data\n",
        "# Hal ini dikarenakan, scikit-learn hanya menerima input\n",
        "# dalam bentuk n-dimensional array\n",
        "data = [\n",
        "    [100, 0.0001],\n",
        "    [50, 0.05],\n",
        "    [30, 0.003]\n",
        "]\n",
        "\n",
        "# Ubah data ke bentuk numpy n-dimensional array\n",
        "data = np.asarray(data)\n",
        "\n",
        "# Cetak data asli\n",
        "print('Data Asli:')\n",
        "print(data)\n",
        "\n",
        "# Mendefinisikan objek MinMaxScaler\n",
        "scaler = MinMaxScaler()\n",
        "\n",
        "# Transformasikan data\n",
        "scaled = scaler.fit_transform(data)\n",
        "\n",
        "# Cetak data hasil normalisasi\n",
        "print('Data Normalisasi:')\n",
        "print(scaled)\n"
      ]
    },
    {
      "cell_type": "code",
      "source": [
        "import numpy as np\n",
        "from sklearn.preprocessing import StandardScaler\n",
        "\n",
        "# Set opsi tampilan numpy\n",
        "np.set_printoptions(precision=4)  # Bulatkan 4 angka di belakang koma\n",
        "np.set_printoptions(suppress=True)  # Hilangkan notasi eksponensial (e)\n",
        "\n",
        "# Kita akan membentuk data\n",
        "# Hal ini dikarenakan, scikit-learn hanya menerima input\n",
        "# dalam bentuk n-dimensional array\n",
        "data = [\n",
        "    [100, 0.0001],\n",
        "    [50, 0.05],\n",
        "    [30, 0.003]\n",
        "]\n",
        "\n",
        "# Ubah data ke bentuk numpy n-dimensional array\n",
        "data = np.asarray(data)\n",
        "\n",
        "# Cetak data asli\n",
        "print('Data Asli:')\n",
        "print(data)\n",
        "\n",
        "# Mendefinisikan objek StandardScaler\n",
        "scaler = StandardScaler()\n",
        "\n",
        "# Transformasikan data\n",
        "scaled = scaler.fit_transform(data)\n",
        "\n",
        "# Cetak data hasil standarisasi\n",
        "print('Data Standarisasi:')\n",
        "print(scaled)"
      ],
      "metadata": {
        "colab": {
          "base_uri": "https://localhost:8080/"
        },
        "id": "BsAwNtkv4aJM",
        "outputId": "89e3c5eb-5845-45b1-9d9c-16eb302619bf"
      },
      "execution_count": null,
      "outputs": [
        {
          "output_type": "stream",
          "name": "stdout",
          "text": [
            "Data Asli:\n",
            "[[100.       0.0001]\n",
            " [ 50.       0.05  ]\n",
            " [ 30.       0.003 ]]\n",
            "Data Standarisasi:\n",
            "[[ 1.3587 -0.7696]\n",
            " [-0.3397  1.4123]\n",
            " [-1.019  -0.6428]]\n"
          ]
        }
      ]
    },
    {
      "cell_type": "code",
      "source": [
        "from sklearn.preprocessing import OrdinalEncoder\n",
        "\n",
        "# Inisiasi obyek Ordinal Encoder\n",
        "oe = OrdinalEncoder()\n",
        "\n",
        "# Definisikan data dalam bentuk 2D\n",
        "data = [\n",
        "    ['Politeknik Negeri Malang'],\n",
        "    ['Politeknik Elektronika Negeri Surabaya'],\n",
        "    ['Politeknik Negeri Jakarata'],\n",
        "    ['Politeknik Negeri Semarang']\n",
        "]\n",
        "\n",
        "# Transformasi menggunakan Ordinal Encoder\n",
        "transform_oe = oe.fit_transform(data)\n",
        "\n",
        "# Cetak data asli dan hasil transformasi\n",
        "print('Data Asli:')\n",
        "print(data)\n",
        "print('Data Transformasi Ordinal Encoder:')\n",
        "print(transform_oe)"
      ],
      "metadata": {
        "colab": {
          "base_uri": "https://localhost:8080/"
        },
        "id": "rynwh83X4-wa",
        "outputId": "69bb3176-7315-4700-edf3-ea7dd2215247"
      },
      "execution_count": null,
      "outputs": [
        {
          "output_type": "stream",
          "name": "stdout",
          "text": [
            "Data Asli:\n",
            "[['Politeknik Negeri Malang'], ['Politeknik Elektronika Negeri Surabaya'], ['Politeknik Negeri Jakarata'], ['Politeknik Negeri Semarang']]\n",
            "Data Transformasi Ordinal Encoder:\n",
            "[[2.]\n",
            " [0.]\n",
            " [1.]\n",
            " [3.]]\n"
          ]
        }
      ]
    },
    {
      "cell_type": "code",
      "source": [
        "from sklearn.preprocessing import OneHotEncoder\n",
        "\n",
        "# Inisiasi obyek Ordinal Encoder\n",
        "ohe = OneHotEncoder()\n",
        "\n",
        "# Definisikan data dalam bentuk 2D\n",
        "data = [\n",
        "    ['Politeknik Negeri Malang'],\n",
        "    ['Politeknik Elektronika Negeri Surabaya'],\n",
        "    ['Politeknik Negeri Jakarata'],\n",
        "    ['Politeknik Negeri Semarang']\n",
        "]\n",
        "\n",
        "# Transformasi menggunakan Ordinal Encoder\n",
        "transform_ohe = ohe.fit_transform(data)\n",
        "\n",
        "# Cetak data asli dan hasil transformasi\n",
        "print('Data Asli:')\n",
        "print(data)\n",
        "print('Data Transformasi Ordinal Encoder:')\n",
        "print(transform_ohe.toarray())"
      ],
      "metadata": {
        "colab": {
          "base_uri": "https://localhost:8080/"
        },
        "id": "ZJ7FM1N26NyJ",
        "outputId": "15840cfe-ffb0-433a-94cf-379800cb65a7"
      },
      "execution_count": null,
      "outputs": [
        {
          "output_type": "stream",
          "name": "stdout",
          "text": [
            "Data Asli:\n",
            "[['Politeknik Negeri Malang'], ['Politeknik Elektronika Negeri Surabaya'], ['Politeknik Negeri Jakarata'], ['Politeknik Negeri Semarang']]\n",
            "Data Transformasi Ordinal Encoder:\n",
            "[[0. 0. 1. 0.]\n",
            " [1. 0. 0. 0.]\n",
            " [0. 1. 0. 0.]\n",
            " [0. 0. 0. 1.]]\n"
          ]
        }
      ]
    },
    {
      "cell_type": "code",
      "source": [
        "from sklearn.preprocessing import OneHotEncoder\n",
        "\n",
        "# Inisiasi obyek Ordinal Encoder\n",
        "ohe = OneHotEncoder(drop='first')\n",
        "\n",
        "# Definisikan data dalam bentuk 2D array\n",
        "data = [\n",
        "    ['Politeknik Negeri Malang'],\n",
        "    ['Politeknik Elektronika Negeri Surabaya'],\n",
        "    ['Politeknik Negeri Jakarata'],\n",
        "    ['Politeknik Negeri Semarang']\n",
        "]\n",
        "\n",
        "# Transformasi Ordinal Encoder\n",
        "transform_ohe = ohe.fit_transform(data)\n",
        "\n",
        "# Cetak data asli dan hasil transformasi\n",
        "print('Data Asli:')\n",
        "print(data)\n",
        "print('Data Transformasi One-Hot Encoding:')\n",
        "print(transform_ohe.toarray())"
      ],
      "metadata": {
        "colab": {
          "base_uri": "https://localhost:8080/"
        },
        "id": "oaPme9c17BWr",
        "outputId": "456dfefc-4e4f-4fab-ad61-d37454340195"
      },
      "execution_count": null,
      "outputs": [
        {
          "output_type": "stream",
          "name": "stdout",
          "text": [
            "Data Asli:\n",
            "[['Politeknik Negeri Malang'], ['Politeknik Elektronika Negeri Surabaya'], ['Politeknik Negeri Jakarata'], ['Politeknik Negeri Semarang']]\n",
            "Data Transformasi One-Hot Encoding:\n",
            "[[0. 1. 0.]\n",
            " [0. 0. 0.]\n",
            " [1. 0. 0.]\n",
            " [0. 0. 1.]]\n"
          ]
        }
      ]
    },
    {
      "cell_type": "code",
      "source": [
        "corpus = [\n",
        "    'the house had a tiny little mouse',\n",
        "    'the cat saw the mouse',\n",
        "    'the mouse ran away from the mouse',\n",
        "    'the cat finally ate the mouse',\n",
        "    'the end of the mouse story'\n",
        "]"
      ],
      "metadata": {
        "id": "OSpwXT6DEHoh"
      },
      "execution_count": null,
      "outputs": []
    },
    {
      "cell_type": "code",
      "source": [
        "corpus = [\n",
        "    'the house had a tiny little mouse',\n",
        "    'the cat saw the mouse',\n",
        "    'the mouse ran away from the house',\n",
        "    'the cat finally ate the mouse',\n",
        "    'the end of the mouse story'\n",
        "]\n",
        "\n",
        "from sklearn.feature_extraction.text import TfidfVectorizer\n",
        "\n",
        "#Inisiasi obyek TFidfVectorixer\n",
        "vect = TfidfVectorizer(stop_words='english')\n",
        "\n",
        "#Pembobotan TF-IDF\n",
        "resp = vect.fit_transform(corpus)\n",
        "\n",
        "#cetak hasil\n",
        "print('Hasil TF-IDF')\n",
        "print(resp)\n",
        "\n",
        "print('Hasil Token')\n",
        "vect.get_feature_names_out()"
      ],
      "metadata": {
        "colab": {
          "base_uri": "https://localhost:8080/"
        },
        "id": "NL_q_fkSM744",
        "outputId": "f60a784d-dcb2-4a28-8db4-05fb01fa7a6c"
      },
      "execution_count": null,
      "outputs": [
        {
          "output_type": "stream",
          "name": "stdout",
          "text": [
            "Hasil TF-IDF\n",
            "  (0, 7)\t0.2808823162882302\n",
            "  (0, 6)\t0.5894630806320427\n",
            "  (0, 11)\t0.5894630806320427\n",
            "  (0, 5)\t0.47557510189256375\n",
            "  (1, 9)\t0.7297183669435993\n",
            "  (1, 2)\t0.5887321837696324\n",
            "  (1, 7)\t0.3477147117091919\n",
            "  (2, 1)\t0.5894630806320427\n",
            "  (2, 8)\t0.5894630806320427\n",
            "  (2, 7)\t0.2808823162882302\n",
            "  (2, 5)\t0.47557510189256375\n",
            "  (3, 0)\t0.5894630806320427\n",
            "  (3, 4)\t0.5894630806320427\n",
            "  (3, 2)\t0.47557510189256375\n",
            "  (3, 7)\t0.2808823162882302\n",
            "  (4, 10)\t0.6700917930430479\n",
            "  (4, 3)\t0.6700917930430479\n",
            "  (4, 7)\t0.3193023297639811\n",
            "Hasil Token\n"
          ]
        },
        {
          "output_type": "execute_result",
          "data": {
            "text/plain": [
              "array(['ate', 'away', 'cat', 'end', 'finally', 'house', 'little', 'mouse',\n",
              "       'ran', 'saw', 'story', 'tiny'], dtype=object)"
            ]
          },
          "metadata": {},
          "execution_count": 39
        }
      ]
    },
    {
      "cell_type": "code",
      "source": [
        "vect.get_feature_names_out()"
      ],
      "metadata": {
        "colab": {
          "base_uri": "https://localhost:8080/"
        },
        "id": "8zGDAE_zEc6G",
        "outputId": "848d8f2a-de32-4db5-9889-6566cb7c4527"
      },
      "execution_count": null,
      "outputs": [
        {
          "output_type": "execute_result",
          "data": {
            "text/plain": [
              "array(['ate', 'away', 'cat', 'corpus', 'end', 'finally', 'house',\n",
              "       'little', 'mouse', 'ran', 'saw', 'story', 'tiny'], dtype=object)"
            ]
          },
          "metadata": {},
          "execution_count": 25
        }
      ]
    },
    {
      "cell_type": "code",
      "source": [
        "from sklearn.feature_extraction.text import TfidfVectorizer\n",
        "\n",
        "# Membaca file 'corpus.txt'\n",
        "with open('corpus.txt') as file:\n",
        "    corpus = file.readlines()\n",
        "\n",
        "# Inisiasi obyek TfidfVectorizer, mengabaikan stopwords seperti 'the'\n",
        "vect = TfidfVectorizer(stop_words='english')\n",
        "\n",
        "# Proses pembobotan TF-IDF\n",
        "resp = vect.fit_transform(corpus)\n",
        "\n",
        "# Cetak hasil TF-IDF dalam bentuk matriks\n",
        "print('Hasil TF-IDF:')\n",
        "print(resp)\n",
        "\n",
        "# Cetak token yang digunakan (fitur yang dipakai)\n",
        "print('Hasil Token:')\n",
        "print(vect.get_feature_names_out())"
      ],
      "metadata": {
        "colab": {
          "base_uri": "https://localhost:8080/"
        },
        "id": "KPL8s_Se_laq",
        "outputId": "fd1411f6-ea5a-4a4b-9fda-33c570a749e8"
      },
      "execution_count": null,
      "outputs": [
        {
          "output_type": "stream",
          "name": "stdout",
          "text": [
            "Hasil TF-IDF:\n",
            "  (0, 3)\t1.0\n",
            "  (1, 8)\t0.297446234188861\n",
            "  (1, 7)\t0.5512185706132869\n",
            "  (1, 12)\t0.5512185706132869\n",
            "  (1, 6)\t0.5512185706132869\n",
            "  (2, 10)\t0.7106281860049563\n",
            "  (2, 2)\t0.5898824226331707\n",
            "  (2, 8)\t0.3834661767662525\n",
            "  (3, 1)\t0.5621224523484127\n",
            "  (3, 9)\t0.5621224523484127\n",
            "  (3, 8)\t0.6066602814851265\n",
            "  (4, 0)\t0.579262311604141\n",
            "  (4, 5)\t0.579262311604141\n",
            "  (4, 2)\t0.48083746527154797\n",
            "  (4, 8)\t0.31257907911644855\n",
            "  (5, 11)\t0.6606476647333884\n",
            "  (5, 4)\t0.6606476647333884\n",
            "  (5, 8)\t0.3564958992255601\n",
            "Hasil Token:\n",
            "['ate' 'away' 'cat' 'corpus' 'end' 'finally' 'house' 'little' 'mouse'\n",
            " 'ran' 'saw' 'story' 'tiny']\n"
          ]
        }
      ]
    },
    {
      "cell_type": "code",
      "source": [
        "from sklearn.feature_extraction.text import TfidfVectorizer\n",
        "\n",
        "# Buka dan baca file corpus.txt\n",
        "with open('corpus.txt', 'r') as file:\n",
        "    corpus = file.readlines()\n",
        "\n",
        "# Hapus karakter newline pada setiap kalimat\n",
        "corpus = [line.strip() for line in corpus]\n",
        "\n",
        "# Inisiasi obyek TFidfVectorizer\n",
        "vect = TfidfVectorizer(stop_words='english')\n",
        "\n",
        "# Pembobotan TF-IDF\n",
        "resp = vect.fit_transform(corpus)\n",
        "\n",
        "# Cetak hasil TF-IDF (Matriks Sparse)\n",
        "print('Hasil TF-IDF (Sparse Matrix):')\n",
        "print(resp)\n",
        "\n",
        "# Cetak token setelah penghapusan stopword\n",
        "print('Hasil Token (Fitur yang Digunakan):')\n",
        "print(vect.get_feature_names_out())"
      ],
      "metadata": {
        "colab": {
          "base_uri": "https://localhost:8080/"
        },
        "id": "wNjEU7sLGlMm",
        "outputId": "8930a159-99f3-4799-ff0d-11f975c4220b"
      },
      "execution_count": null,
      "outputs": [
        {
          "output_type": "stream",
          "name": "stdout",
          "text": [
            "Hasil TF-IDF (Sparse Matrix):\n",
            "  (0, 3)\t1.0\n",
            "  (1, 8)\t0.297446234188861\n",
            "  (1, 7)\t0.5512185706132869\n",
            "  (1, 12)\t0.5512185706132869\n",
            "  (1, 6)\t0.5512185706132869\n",
            "  (2, 10)\t0.7106281860049563\n",
            "  (2, 2)\t0.5898824226331707\n",
            "  (2, 8)\t0.3834661767662525\n",
            "  (3, 1)\t0.5621224523484127\n",
            "  (3, 9)\t0.5621224523484127\n",
            "  (3, 8)\t0.6066602814851265\n",
            "  (4, 0)\t0.579262311604141\n",
            "  (4, 5)\t0.579262311604141\n",
            "  (4, 2)\t0.48083746527154797\n",
            "  (4, 8)\t0.31257907911644855\n",
            "  (5, 11)\t0.6606476647333884\n",
            "  (5, 4)\t0.6606476647333884\n",
            "  (5, 8)\t0.3564958992255601\n",
            "Hasil Token (Fitur yang Digunakan):\n",
            "['ate' 'away' 'cat' 'corpus' 'end' 'finally' 'house' 'little' 'mouse'\n",
            " 'ran' 'saw' 'story' 'tiny']\n"
          ]
        }
      ]
    }
  ]
}